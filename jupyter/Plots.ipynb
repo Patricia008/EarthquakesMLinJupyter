{
 "cells": [
  {
   "cell_type": "code",
   "execution_count": null,
   "metadata": {},
   "outputs": [],
   "source": [
    "import matplotlib.pyplot as plt\n",
    "import pandas as panda"
   ]
  },
  {
   "cell_type": "markdown",
   "metadata": {},
   "source": [
    "## Read input data ##"
   ]
  },
  {
   "cell_type": "code",
   "execution_count": null,
   "metadata": {},
   "outputs": [],
   "source": [
    "inputData = panda.read_csv('predictions.csv')"
   ]
  },
  {
   "cell_type": "markdown",
   "metadata": {},
   "source": [
    "## Plots ##"
   ]
  },
  {
   "cell_type": "markdown",
   "metadata": {},
   "source": [
    "## Algorithms' Precision for Each Radius ##"
   ]
  },
  {
   "cell_type": "code",
   "execution_count": null,
   "metadata": {},
   "outputs": [],
   "source": [
    "plt.title('Random Forest Classifier')\n",
    "plt.xlabel('Radius')\n",
    "plt.ylabel('Magnitude')\n",
    "plt.plot( 'Radius', 'Random_Forest_Classifier', data = inputData, marker='o', markerfacecolor='blue', markersize=7, color='skyblue', linewidth=2)\n",
    "plt.plot( 'Radius', 'Real_Magnitude', data = inputData, linestyle='dashed', color='green', linewidth=2)\n",
    "plt.legend()"
   ]
  },
  {
   "cell_type": "code",
   "execution_count": null,
   "metadata": {},
   "outputs": [],
   "source": [
    "plt.title('Multi Layer Perceptron')\n",
    "plt.xlabel('Radius')\n",
    "plt.ylabel('Magnitude')\n",
    "plt.plot( 'Radius', 'Multi_Layer_Perceptron', data = inputData, marker='o', markerfacecolor='orange', markersize=7, color='red', linewidth=2)\n",
    "plt.plot( 'Radius', 'Real_Magnitude', data = inputData, linestyle='dashed', color='green', linewidth=2)\n",
    "plt.legend()"
   ]
  },
  {
   "cell_type": "code",
   "execution_count": null,
   "metadata": {},
   "outputs": [],
   "source": [
    "plt.title('Multi Layer Perceptron - with input data scaling')\n",
    "plt.xlabel('Radius')\n",
    "plt.ylabel('Magnitude')\n",
    "plt.plot( 'Radius', 'MLP_With_Scaling', data = inputData, marker='o', markerfacecolor='red', markersize=7, color='orange', linewidth=2)\n",
    "plt.plot( 'Radius', 'Real_Magnitude', data = inputData, linestyle='dashed', color='green', linewidth=2)\n",
    "plt.legend()"
   ]
  },
  {
   "cell_type": "code",
   "execution_count": null,
   "metadata": {},
   "outputs": [],
   "source": [
    "plt.title('Logistinc Regression')\n",
    "plt.xlabel('Radius')\n",
    "plt.ylabel('Magnitude')\n",
    "plt.plot( 'Radius', 'Logistic_Regression', data = inputData, marker='o', markerfacecolor='blue', markersize=7, color='magenta', linewidth=2)\n",
    "plt.plot( 'Radius', 'Real_Magnitude', data = inputData, linestyle='dashed', color='green', linewidth=2)\n",
    "plt.legend()"
   ]
  },
  {
   "cell_type": "code",
   "execution_count": null,
   "metadata": {},
   "outputs": [],
   "source": [
    "plt.title('Support Vector Machines')\n",
    "plt.xlabel('Radius')\n",
    "plt.ylabel('Magnitude')\n",
    "plt.plot( 'Radius', 'Support_Vector_Machines', data = inputData, marker='o', markerfacecolor='blue', markersize=7, color='purple', linewidth=2)\n",
    "plt.plot( 'Radius', 'Real_Magnitude', data = inputData, linestyle='dashed', color='green', linewidth=2)\n",
    "plt.legend()"
   ]
  },
  {
   "cell_type": "markdown",
   "metadata": {},
   "source": [
    "## Radius Precision for each Algorithm ##"
   ]
  },
  {
   "cell_type": "code",
   "execution_count": null,
   "metadata": {},
   "outputs": [],
   "source": [
    "inputData_transposed = inputData.transpose()\n",
    "print(inputData_transposed)"
   ]
  },
  {
   "cell_type": "markdown",
   "metadata": {},
   "source": [
    "### Radius 50 ###"
   ]
  },
  {
   "cell_type": "code",
   "execution_count": null,
   "metadata": {},
   "outputs": [],
   "source": [
    "\n",
    "plt.figure(figsize=(13,4))\n",
    "plt.title('Radius 50')\n",
    "plt.xlabel('Algorithm')\n",
    "plt.ylabel('Magnitude')\n",
    "print(inputData.keys()[2:].values)\n",
    "print(tuple(inputData['Real_Magnitude']))\n",
    "print(inputData_transposed)\n",
    "plt.plot( inputData.keys()[2:].values, tuple(inputData_transposed[0][2:].values), data = inputData_transposed, marker='o', markerfacecolor='blue', markersize=7, color='skyblue', linewidth=2)\n",
    "plt.plot( inputData.keys()[2:].values, tuple(inputData['Real_Magnitude'])[1:], data = inputData_transposed, linestyle='dashed', color='green', linewidth=2)\n",
    "\n",
    "plt.show()"
   ]
  },
  {
   "cell_type": "markdown",
   "metadata": {},
   "source": [
    "### Radius 200 ###"
   ]
  },
  {
   "cell_type": "code",
   "execution_count": null,
   "metadata": {},
   "outputs": [],
   "source": [
    "plt.figure(figsize=(13,4))\n",
    "plt.title('Radius 200')\n",
    "plt.xlabel('Algorithm')\n",
    "plt.ylabel('Magnitude')\n",
    "plt.plot( inputData.keys()[2:].values, tuple(inputData_transposed[1][2:].values), data = inputData_transposed, marker='o', markerfacecolor='blue', markersize=7, color='orange', linewidth=2)\n",
    "plt.plot( inputData.keys()[2:].values, tuple(inputData['Real_Magnitude'])[1:], data = inputData_transposed, linestyle='dashed', color='green', linewidth=2)\n",
    "\n",
    "plt.show()"
   ]
  },
  {
   "cell_type": "markdown",
   "metadata": {},
   "source": [
    "### Radius 1000 ###"
   ]
  },
  {
   "cell_type": "code",
   "execution_count": null,
   "metadata": {},
   "outputs": [],
   "source": [
    "plt.figure(figsize=(13,4))\n",
    "plt.title('Radius 1000')\n",
    "plt.xlabel('Algorithm')\n",
    "plt.ylabel('Magnitude')\n",
    "plt.plot( inputData.keys()[2:].values, tuple(inputData_transposed[2][2:].values), data = inputData_transposed, marker='o', markerfacecolor='orange', markersize=7, color='red', linewidth=2)\n",
    "plt.plot( inputData.keys()[2:].values, tuple(inputData['Real_Magnitude'])[1:], data = inputData_transposed, linestyle='dashed', color='green', linewidth=2)\n",
    "\n",
    "plt.show()"
   ]
  },
  {
   "cell_type": "markdown",
   "metadata": {},
   "source": [
    "### Radius 1500 ###"
   ]
  },
  {
   "cell_type": "code",
   "execution_count": null,
   "metadata": {},
   "outputs": [],
   "source": [
    "plt.figure(figsize=(13,4))\n",
    "plt.title('Radius 1500')\n",
    "plt.xlabel('Algorithm')\n",
    "plt.ylabel('Magnitude')\n",
    "plt.plot( inputData.keys()[2:].values, tuple(inputData_transposed[3][2:].values), data = inputData_transposed, marker='o', markerfacecolor='blue', markersize=7, color='purple', linewidth=2)\n",
    "plt.plot( inputData.keys()[2:].values, tuple(inputData['Real_Magnitude'])[1:], data = inputData_transposed, linestyle='dashed', color='green', linewidth=2)\n",
    "\n",
    "plt.show()"
   ]
  },
  {
   "cell_type": "markdown",
   "metadata": {},
   "source": [
    "### Radius 3000 ###"
   ]
  },
  {
   "cell_type": "code",
   "execution_count": null,
   "metadata": {},
   "outputs": [],
   "source": [
    "plt.figure(figsize=(13,4))\n",
    "plt.title('Radius 3000')\n",
    "plt.xlabel('Algorithm')\n",
    "plt.ylabel('Magnitude')\n",
    "plt.plot( inputData.keys()[2:].values, tuple(inputData_transposed[4][2:].values), data = inputData_transposed, marker='o', markerfacecolor='blue', markersize=7, color='magenta', linewidth=2)\n",
    "plt.plot( inputData.keys()[2:].values, tuple(inputData['Real_Magnitude'])[1:], data = inputData_transposed, linestyle='dashed', color='green', linewidth=2)\n",
    "\n",
    "plt.show()"
   ]
  },
  {
   "cell_type": "markdown",
   "metadata": {},
   "source": [
    "### Radius 5000 ###"
   ]
  },
  {
   "cell_type": "code",
   "execution_count": null,
   "metadata": {},
   "outputs": [],
   "source": [
    "plt.figure(figsize=(13,4))\n",
    "plt.title('Radius 5000')\n",
    "plt.xlabel('Algorithm')\n",
    "plt.ylabel('Magnitude')\n",
    "plt.plot( inputData.keys()[2:].values, tuple(inputData_transposed[5][2:].values), data = inputData_transposed, marker='o', markerfacecolor='green', markersize=7, color='yellow', linewidth=2)\n",
    "plt.plot( inputData.keys()[2:].values, tuple(inputData['Real_Magnitude'])[1:], data = inputData_transposed, linestyle='dashed', color='green', linewidth=2)\n",
    "\n",
    "plt.show()"
   ]
  },
  {
   "cell_type": "markdown",
   "metadata": {},
   "source": [
    "### Radius 10000 ###"
   ]
  },
  {
   "cell_type": "code",
   "execution_count": null,
   "metadata": {},
   "outputs": [],
   "source": [
    "# plt.figure(figsize=(13,4))\n",
    "# plt.title('Radius 50')\n",
    "# plt.xlabel('Algorithm')\n",
    "# plt.ylabel('Magnitude')\n",
    "# plt.plot( inputData.keys()[2:].values, tuple(inputData_transposed[6][2:].values), data = inputData_transposed, marker='o', markerfacecolor='blue', markersize=7, color='skyblue', linewidth=2)\n",
    "# plt.plot( inputData.keys()[2:].values, tuple(inputData['Real_Magnitude']), data = inputData_transposed, linestyle='dashed', color='green', linewidth=2)\n",
    "\n",
    "# plt.show()"
   ]
  },
  {
   "cell_type": "code",
   "execution_count": null,
   "metadata": {},
   "outputs": [],
   "source": []
  }
 ],
 "metadata": {
  "kernelspec": {
   "display_name": "Python 3",
   "language": "python",
   "name": "python3"
  },
  "language_info": {
   "codemirror_mode": {
    "name": "ipython",
    "version": 3
   },
   "file_extension": ".py",
   "mimetype": "text/x-python",
   "name": "python",
   "nbconvert_exporter": "python",
   "pygments_lexer": "ipython3",
   "version": "3.7.1"
  }
 },
 "nbformat": 4,
 "nbformat_minor": 2
}
